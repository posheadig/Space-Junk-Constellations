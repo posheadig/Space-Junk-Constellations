{
  "nbformat": 4,
  "nbformat_minor": 0,
  "metadata": {
    "colab": {
      "name": "Copy of SpaceJunk.ipynb",
      "provenance": [],
      "collapsed_sections": [],
      "include_colab_link": true
    },
    "kernelspec": {
      "name": "python3",
      "display_name": "Python 3"
    }
  },
  "cells": [
    {
      "cell_type": "markdown",
      "metadata": {
        "id": "view-in-github",
        "colab_type": "text"
      },
      "source": [
        "<a href=\"https://colab.research.google.com/github/posheadig/Space-Junk-Constellations/blob/main/Copy_of_SpaceJunk.ipynb\" target=\"_parent\"><img src=\"https://colab.research.google.com/assets/colab-badge.svg\" alt=\"Open In Colab\"/></a>"
      ]
    },
    {
      "cell_type": "code",
      "metadata": {
        "id": "kEIf7cFo5SUt"
      },
      "source": [
        "# Compute TLE Trajectories"
      ],
      "execution_count": null,
      "outputs": []
    },
    {
      "cell_type": "code",
      "metadata": {
        "id": "CpOl3VI75WUR",
        "colab": {
          "base_uri": "https://localhost:8080/"
        },
        "outputId": "4fd7e32a-c46e-4539-a66f-907a1a0a1baa"
      },
      "source": [
        "# Install dependencies.\n",
        "!pip install skyfield pandas"
      ],
      "execution_count": null,
      "outputs": [
        {
          "output_type": "stream",
          "text": [
            "Requirement already satisfied: skyfield in /usr/local/lib/python3.7/dist-packages (1.37)\n",
            "Requirement already satisfied: pandas in /usr/local/lib/python3.7/dist-packages (1.1.5)\n",
            "Requirement already satisfied: numpy in /usr/local/lib/python3.7/dist-packages (from skyfield) (1.19.5)\n",
            "Requirement already satisfied: jplephem>=2.13 in /usr/local/lib/python3.7/dist-packages (from skyfield) (2.15)\n",
            "Requirement already satisfied: certifi>=2017.4.17 in /usr/local/lib/python3.7/dist-packages (from skyfield) (2020.12.5)\n",
            "Requirement already satisfied: sgp4>=2.2 in /usr/local/lib/python3.7/dist-packages (from skyfield) (2.18)\n",
            "Requirement already satisfied: python-dateutil>=2.7.3 in /usr/local/lib/python3.7/dist-packages (from pandas) (2.8.1)\n",
            "Requirement already satisfied: pytz>=2017.2 in /usr/local/lib/python3.7/dist-packages (from pandas) (2018.9)\n",
            "Requirement already satisfied: six>=1.5 in /usr/local/lib/python3.7/dist-packages (from python-dateutil>=2.7.3->pandas) (1.15.0)\n"
          ],
          "name": "stdout"
        }
      ]
    },
    {
      "cell_type": "code",
      "metadata": {
        "id": "1z46UA156JxI"
      },
      "source": [
        "from skyfield.api import Topos, load, utc\n",
        "import json\n",
        "import numpy as np\n",
        "import pandas as pd \n",
        "import datetime\n",
        "\n"
      ],
      "execution_count": null,
      "outputs": []
    },
    {
      "cell_type": "code",
      "metadata": {
        "id": "tK2OTDAF7KGz",
        "colab": {
          "base_uri": "https://localhost:8080/"
        },
        "outputId": "8f589375-047a-42d0-9246-fa5683481b1f"
      },
      "source": [
        "# Here we load a bunch of satellites.\n",
        "stations_url = 'http://www.celestrak.com/NORAD/elements/active.txt'\n",
        "satellites = load.tle_file(stations_url)\n",
        "print('Loaded', len(satellites), 'satellites')\n"
      ],
      "execution_count": null,
      "outputs": [
        {
          "output_type": "stream",
          "text": [
            "[#################################] 100% active.txt\n"
          ],
          "name": "stderr"
        },
        {
          "output_type": "stream",
          "text": [
            "Loaded 3844 satellites\n"
          ],
          "name": "stdout"
        }
      ]
    },
    {
      "cell_type": "code",
      "metadata": {
        "id": "ToWJErKP9Rkt",
        "colab": {
          "base_uri": "https://localhost:8080/"
        },
        "outputId": "6579ce84-ca98-4b4e-b878-f63c02c20c56"
      },
      "source": [
        "# Here we iterate through the satellites to take a look ..\n",
        "for s in satellites[:1]:\n",
        "  print(s.name)  \n",
        "  "
      ],
      "execution_count": null,
      "outputs": [
        {
          "output_type": "stream",
          "text": [
            "CALSPHERE 1\n"
          ],
          "name": "stdout"
        }
      ]
    },
    {
      "cell_type": "code",
      "metadata": {
        "id": "GiRS4q466gCU",
        "colab": {
          "base_uri": "https://localhost:8080/"
        },
        "outputId": "b4baa59d-0ba7-49a4-a11d-88355d31638d"
      },
      "source": [
        "# Generate a bunch of times in the future to calculate positions at.\n",
        "\n",
        "# Function reference is here\n",
        "# https://pandas.pydata.org/pandas-docs/stable/reference/api/pandas.date_range.html\n",
        "\n",
        "# Generate one week's worth of times, hourly.\n",
        "# times = pd.date_range('2020-10-01', periods=7*24, freq='1H')\n",
        "\n",
        "# Generate one days's worth of times, every 10 minutes for 24 hours.\n",
        "times = pd.date_range('2020-10-01', periods=1*6*24, freq='10min')\n",
        "times\n"
      ],
      "execution_count": null,
      "outputs": [
        {
          "output_type": "execute_result",
          "data": {
            "text/plain": [
              "DatetimeIndex(['2020-10-01 00:00:00', '2020-10-01 00:10:00',\n",
              "               '2020-10-01 00:20:00', '2020-10-01 00:30:00',\n",
              "               '2020-10-01 00:40:00', '2020-10-01 00:50:00',\n",
              "               '2020-10-01 01:00:00', '2020-10-01 01:10:00',\n",
              "               '2020-10-01 01:20:00', '2020-10-01 01:30:00',\n",
              "               ...\n",
              "               '2020-10-01 22:20:00', '2020-10-01 22:30:00',\n",
              "               '2020-10-01 22:40:00', '2020-10-01 22:50:00',\n",
              "               '2020-10-01 23:00:00', '2020-10-01 23:10:00',\n",
              "               '2020-10-01 23:20:00', '2020-10-01 23:30:00',\n",
              "               '2020-10-01 23:40:00', '2020-10-01 23:50:00'],\n",
              "              dtype='datetime64[ns]', length=144, freq='10T')"
            ]
          },
          "metadata": {
            "tags": []
          },
          "execution_count": 9
        }
      ]
    },
    {
      "cell_type": "code",
      "metadata": {
        "id": "hsbD_e3l7OfS"
      },
      "source": [
        "# Iterate all satellites for all times ...\n",
        "# https://rhodesmill.org/skyfield/earth-satellites.html\n",
        "\n",
        "ts = load.timescale()\n",
        "\n",
        "entries = []\n",
        "\n",
        "# Iterates all satellites in the TLE that was loaded.\n",
        "for satellite in satellites[:20]:\n",
        "  entry = { }\n",
        "  entry['name'] = satellite.name\n",
        "  xyzts = []\n",
        "  for time in times:\n",
        "    # Convert my timestamp to skyfield data type.\n",
        "    t = ts.utc(pd.to_datetime(time, utc=True))\n",
        "\n",
        "    # Ask for position data at the given time.\n",
        "    geocentric = satellite.at(t)\n",
        "\n",
        "    # Place data into a data structure.\n",
        "    xyzt = {}\n",
        "    xyzt['x'] = geocentric.position.km[0] # Get x\n",
        "    xyzt['y'] = geocentric.position.km[1] # Get y\n",
        "    xyzt['z'] = geocentric.position.km[2] # Get z\n",
        "    xyzt['t'] = t.utc_datetime().timestamp() # Convert the time to epoch milliseconds\n",
        "    xyzts.append(xyzt)\n",
        "  entry['xyzts'] = xyzts\n",
        "  entries.append(entry)"
      ],
      "execution_count": null,
      "outputs": []
    },
    {
      "cell_type": "code",
      "metadata": {
        "id": "6g3wdyQ1-1L0"
      },
      "source": [
        ""
      ],
      "execution_count": null,
      "outputs": []
    },
    {
      "cell_type": "code",
      "metadata": {
        "id": "MRYtZWiPGeeq"
      },
      "source": [
        "# This data.json file will be over to the left in the folder ... button thing.\n",
        "with open('data.json', 'w') as outfile:\n",
        "    json.dump(entries, outfile)\n"
      ],
      "execution_count": null,
      "outputs": []
    },
    {
      "cell_type": "code",
      "metadata": {
        "id": "5AdpDuXuLja_"
      },
      "source": [
        ""
      ],
      "execution_count": null,
      "outputs": []
    }
  ]
}